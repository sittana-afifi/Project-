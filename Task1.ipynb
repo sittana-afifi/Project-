{
 "cells": [
  {
   "cell_type": "code",
   "execution_count": 31,
   "metadata": {},
   "outputs": [],
   "source": [
    "### use generate_graph() to transform adjeceny matrix to graph\n",
    "import numpy as np\n",
    "from graph_tools import *\n",
    "def generate_graph(AM):\n",
    "    d = Graph(directed=False)\n",
    "    d.add_vertex(len(AM)-1)\n",
    "    for i in range(len(AM)):\n",
    "        for j in range(i,len(AM)):\n",
    "            if AM[i][j]==1:\n",
    "                d.add_edge(i,j)\n",
    "    return d"
   ]
  },
  {
   "cell_type": "code",
   "execution_count": 32,
   "metadata": {},
   "outputs": [],
   "source": [
    "###get adjeceny matrix from user\n",
    "def enter_adjMatrix():\n",
    "    n = int(input(\"Enter number of rows(columns) in the matrix: \"))\n",
    "    matrix = []\n",
    "    print(\"Enter the %s x %s matrix row by row: \"% (n, n))\n",
    "    for i in range(n):\n",
    "        matrix.append(list(map(int, input().rstrip().split())))  \n",
    "    return matrix"
   ]
  },
  {
   "cell_type": "code",
   "execution_count": null,
   "metadata": {},
   "outputs": [],
   "source": [
    "AM=enter_adjMatrix()\n",
    "AM1=enter_adjMatrix()"
   ]
  },
  {
   "cell_type": "code",
   "execution_count": null,
   "metadata": {},
   "outputs": [],
   "source": [
    "g0=generate_graph(AM)\n",
    "g0"
   ]
  },
  {
   "cell_type": "code",
   "execution_count": null,
   "metadata": {},
   "outputs": [],
   "source": [
    "g1=generate_graph(AM)\n",
    "g1"
   ]
  },
  {
   "cell_type": "code",
   "execution_count": 33,
   "metadata": {},
   "outputs": [],
   "source": [
    "def composite_permutition(p,g):\n",
    "    g1=[0]*len(p)\n",
    "    s=min(g)\n",
    "    if len(p)==len(g):\n",
    "        for i in range(len(p)):\n",
    "            g1[i]=g[((p[i]-s)%len(p))]\n",
    "        pass\n",
    "    return g1"
   ]
  },
  {
   "cell_type": "code",
   "execution_count": 34,
   "metadata": {},
   "outputs": [],
   "source": [
    "def apply_permut(AM,p):\n",
    "    M=np.array(AM)\n",
    "    M1=np.zeros([len(p),len(p)])\n",
    "    #print(M)\n",
    "    for i in range(len(p)):\n",
    "        M1[:,i] = M[p[i],i]\n",
    "    for i in range(len(p)):\n",
    "        M1[i,:] = M[i,p]\n",
    "    return M1"
   ]
  },
  {
   "cell_type": "code",
   "execution_count": 35,
   "metadata": {},
   "outputs": [],
   "source": [
    "## check if two permutation produce the same graph using are_same()\n",
    "def are_same(g0,g1):\n",
    "    s=len(g0.vertices())\n",
    "    q=len(g1.vertices())\n",
    "    \n",
    "    if s==q :\n",
    "        if sorted(g0.edges())==sorted(g1.edges()):\n",
    "            return True\n",
    "        else:\n",
    "            return False\n",
    "    else :\n",
    "        return False"
   ]
  },
  {
   "cell_type": "code",
   "execution_count": 36,
   "metadata": {},
   "outputs": [],
   "source": [
    "def tran_permu_to_graph(g):\n",
    "    d = Graph(directed=False)\n",
    "    d.add_vertex(len(g)-1)\n",
    "    for i in range(len(g)):\n",
    "        d.add_edge(g[(i)],g[(i+1)%len(g)])\n",
    "    return d"
   ]
  },
  {
   "cell_type": "code",
   "execution_count": 37,
   "metadata": {},
   "outputs": [],
   "source": [
    "### find the inverse of permutation using inv()\n",
    "def inv(perm):\n",
    "    s=min(perm)\n",
    "    inverse = [0] * len(perm)\n",
    "    for i, p in enumerate(perm):\n",
    "        inverse[p-s] = i+s\n",
    "    return inverse"
   ]
  },
  {
   "cell_type": "code",
   "execution_count": 38,
   "metadata": {},
   "outputs": [],
   "source": [
    "### transform the permutation to list of list using\n",
    " \n",
    "def To_list(l):\n",
    "    l1=[]\n",
    "    for i in l:\n",
    "        l1.append(list(i))\n",
    "    return l1"
   ]
  },
  {
   "cell_type": "code",
   "execution_count": 39,
   "metadata": {},
   "outputs": [],
   "source": [
    "def graph_isomorphism(P,V):\n",
    "    message_list=[]\n",
    "    prover_move=True\n",
    "    while len(message_list)<4:\n",
    "        if prover_move :\n",
    "            message_list=P(message_list)\n",
    "        else :\n",
    "            message_list=V(message_list)\n",
    "        prover_move= not prover_move\n",
    "        print(message_list[-1])\n",
    "        if message_list[-1]== 'accept' or   message_list[-1]== 'reject':\n",
    "            return message_list\n",
    "    return message_list"
   ]
  },
  {
   "cell_type": "code",
   "execution_count": 40,
   "metadata": {},
   "outputs": [],
   "source": [
    "import math\n",
    "def honest_prover(AM,AM1,pi,mess_list,s):\n",
    "    n=len(AM)\n",
    "    if len(mess_list)==0:\n",
    "        sigma =np.random.seed(s)\n",
    "        sigma =np.random.permutation(n)\n",
    "        h=apply_permut(AM,sigma)\n",
    "        H=generate_graph(h)\n",
    "        mess_list.append(H)\n",
    "        #print(sigma)\n",
    "    if len(mess_list)==2:\n",
    "        sigma =np.random.seed(s)\n",
    "        sigma =np.random.permutation(n)\n",
    "        ch=mess_list[1]\n",
    "        #print(sigma)\n",
    "        if ch==0:\n",
    "            mess_list.append(sigma)\n",
    "        else:\n",
    "            p=inv(pi)\n",
    "            mess_list.append(composite_permutition(sigma,p))\n",
    "    return mess_list"
   ]
  },
  {
   "cell_type": "code",
   "execution_count": 64,
   "metadata": {},
   "outputs": [],
   "source": [
    "def honest_verifier(AM,AM1,mess_list):\n",
    "    if len(mess_list)==1:\n",
    "        ch=random.choice(range(2))\n",
    "        mess_list.append(ch)\n",
    "    if len(mess_list)==3: \n",
    "        phi=mess_list[2]\n",
    "        H=mess_list[0]\n",
    "        H0=apply_permut(AM,phi)\n",
    "        H1=generate_graph(H0)\n",
    "        print(H1)\n",
    "        r=are_same(H,H1)\n",
    "        if r==True:\n",
    "            mess_list.append('accept')\n",
    "        else:\n",
    "            mess_list.append('reject')\n",
    "        \n",
    "    return mess_list"
   ]
  },
  {
   "cell_type": "code",
   "execution_count": 62,
   "metadata": {},
   "outputs": [],
   "source": [
    "def test_isomorphism():\n",
    "#     AM=enter_adjMatrix()\n",
    "#     AM1=enter_adjMatrix()\n",
    "#     pi=list(map(int, input('Enter pi:').split())) \n",
    "    V=lambda msg: honest_verifier(AM,AM1,msg)\n",
    "    P=lambda msg: honest_prover(AM,AM1,pi,msg,s)\n",
    "    return graph_isomorphism(P,V)"
   ]
  },
  {
   "cell_type": "code",
   "execution_count": 65,
   "metadata": {
    "scrolled": true
   },
   "outputs": [
    {
     "name": "stdout",
     "output_type": "stream",
     "text": [
      "// Generated by graph-tools (version 1.0) at 2020/47/04/30/20 23:47:31\n",
      "// undirected, 4 vertices, 5 edges\n",
      "graph export_dot {\n",
      "  node [color=gray90,style=filled];\n",
      "  \"0\";\n",
      "  \"1\";\n",
      "  \"2\";\n",
      "  \"3\";\n",
      "  \"0\" -- \"1\";\n",
      "  \"0\" -- \"2\";\n",
      "  \"1\" -- \"3\";\n",
      "  \"2\" -- \"2\";\n",
      "  \"3\" -- \"3\";\n",
      "}\n",
      "\n",
      "1\n",
      "[3, 1, 2, 0]\n",
      "// Generated by graph-tools (version 1.0) at 2020/47/04/30/20 23:47:31\n",
      "// undirected, 4 vertices, 5 edges\n",
      "graph export_dot {\n",
      "  node [color=gray90,style=filled];\n",
      "  \"0\";\n",
      "  \"1\";\n",
      "  \"2\";\n",
      "  \"3\";\n",
      "  \"0\" -- \"0\";\n",
      "  \"0\" -- \"1\";\n",
      "  \"1\" -- \"2\";\n",
      "  \"1\" -- \"3\";\n",
      "  \"3\" -- \"3\";\n",
      "}\n",
      "\n",
      "reject\n"
     ]
    },
    {
     "data": {
      "text/plain": [
       "[// Generated by graph-tools (version 1.0) at 2020/47/04/30/20 23:47:31\n",
       " // undirected, 4 vertices, 5 edges\n",
       " graph export_dot {\n",
       "   node [color=gray90,style=filled];\n",
       "   \"0\";\n",
       "   \"1\";\n",
       "   \"2\";\n",
       "   \"3\";\n",
       "   \"0\" -- \"1\";\n",
       "   \"0\" -- \"2\";\n",
       "   \"1\" -- \"3\";\n",
       "   \"2\" -- \"2\";\n",
       "   \"3\" -- \"3\";\n",
       " }, 1, [3, 1, 2, 0], 'reject']"
      ]
     },
     "execution_count": 65,
     "metadata": {},
     "output_type": "execute_result"
    }
   ],
   "source": [
    "s=2\n",
    "AM=[[0, 1, 0, 1]\n",
    ",[1 ,0, 1, 0],\n",
    "[0, 1 ,0, 1],\n",
    "[1, 0, 1, 0]]\n",
    "pi=[0,3,1,2]\n",
    "AM1=apply_permut(AM,pi)\n",
    "\n",
    "test_isomorphism()"
   ]
  },
  {
   "cell_type": "code",
   "execution_count": 67,
   "metadata": {},
   "outputs": [
    {
     "data": {
      "text/plain": [
       "// Generated by graph-tools (version 1.0) at 2020/51/05/01/20 01:51:36\n",
       "// undirected, 4 vertices, 5 edges\n",
       "graph export_dot {\n",
       "  node [color=gray90,style=filled];\n",
       "  \"0\";\n",
       "  \"1\";\n",
       "  \"2\";\n",
       "  \"3\";\n",
       "  \"0\" -- \"1\";\n",
       "  \"0\" -- \"2\";\n",
       "  \"1\" -- \"3\";\n",
       "  \"2\" -- \"2\";\n",
       "  \"3\" -- \"3\";\n",
       "}"
      ]
     },
     "execution_count": 67,
     "metadata": {},
     "output_type": "execute_result"
    }
   ],
   "source": [
    "generate_graph(AM1)"
   ]
  },
  {
   "cell_type": "code",
   "execution_count": 68,
   "metadata": {},
   "outputs": [
    {
     "data": {
      "text/plain": [
       "array([[0., 1., 1., 0.],\n",
       "       [1., 0., 0., 1.],\n",
       "       [0., 1., 1., 0.],\n",
       "       [1., 0., 0., 1.]])"
      ]
     },
     "execution_count": 68,
     "metadata": {},
     "output_type": "execute_result"
    }
   ],
   "source": [
    "AM1"
   ]
  },
  {
   "cell_type": "code",
   "execution_count": null,
   "metadata": {},
   "outputs": [],
   "source": []
  }
 ],
 "metadata": {
  "kernelspec": {
   "display_name": "Python 3",
   "language": "python",
   "name": "python3"
  },
  "language_info": {
   "codemirror_mode": {
    "name": "ipython",
    "version": 3
   },
   "file_extension": ".py",
   "mimetype": "text/x-python",
   "name": "python",
   "nbconvert_exporter": "python",
   "pygments_lexer": "ipython3",
   "version": "3.7.3"
  }
 },
 "nbformat": 4,
 "nbformat_minor": 2
}
