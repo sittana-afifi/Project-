{
 "cells": [
  {
   "cell_type": "code",
   "execution_count": 546,
   "metadata": {},
   "outputs": [],
   "source": [
    "### use generate_graph() to transform adjeceny matrix to graph\n",
    "import numpy as np\n",
    "from graph_tools import *\n",
    "def generate_graph(AM):\n",
    "    d = Graph(directed=False)\n",
    "    d.add_vertex(len(AM)-1)\n",
    "    for i in range(len(AM)):\n",
    "        for j in range(i,len(AM)):\n",
    "            if AM[i][j]==1:\n",
    "                d.add_edge(i,j)\n",
    "    return d"
   ]
  },
  {
   "cell_type": "code",
   "execution_count": 547,
   "metadata": {},
   "outputs": [],
   "source": [
    "###get adjeceny matrix from user\n",
    "def enter_adjMatrix():\n",
    "    n = int(input(\"Enter number of rows(columns) in the matrix: \"))\n",
    "    matrix = []\n",
    "    print(\"Enter the %s x %s matrix row by row: \"% (n, n))\n",
    "    for i in range(n):\n",
    "        matrix.append(list(map(int, input().rstrip().split())))  \n",
    "    return matrix"
   ]
  },
  {
   "cell_type": "code",
   "execution_count": 548,
   "metadata": {},
   "outputs": [],
   "source": [
    "def composite_permutition(p,g):\n",
    "    p1=Permutation(p)\n",
    "    q1=Permutation(g)\n",
    "    return [(p1*q1)(i) for i in range(p1.size)]\n"
   ]
  },
  {
   "cell_type": "code",
   "execution_count": 829,
   "metadata": {},
   "outputs": [],
   "source": [
    "def apply_permute(AM,pi):\n",
    "    l=[]\n",
    "    l1=[]\n",
    "    l2=[]\n",
    "    l0=[]\n",
    "    for i in range (len(AM)):\n",
    "        for j in range (len(AM)):\n",
    "            if AM[i][j]==1 :\n",
    "                l.append([i,j])\n",
    "    n=len(l)\n",
    "    for i in range (n):\n",
    "        l1.append( sorted(l[i]))\n",
    "    l2=sorted(l1)\n",
    "    for i in range (len(l2)-1):\n",
    "        if l2[i]==l2[(i+1)]:\n",
    "            l0.append(l2[i])\n",
    "    l3=np.zeros([len(l0),2])\n",
    "    for i in range (10): \n",
    "        for j in range (2):\n",
    "            for k in range(10): \n",
    "                if l0[i][j]==k:\n",
    "                    l3[i][j]=pi[k]\n",
    "    AM0=np.zeros([len(AM),len(AM)])\n",
    "    for i in range (len(l3)):\n",
    "        a,b=l3[i]\n",
    "        AM0[int(a),int(b)]= AM0[int(b),int(a)]=1\n",
    "    return AM0\n"
   ]
  },
  {
   "cell_type": "code",
   "execution_count": 550,
   "metadata": {},
   "outputs": [],
   "source": [
    "def tran_permu_to_graph(g):\n",
    "    d = Graph(directed=False)\n",
    "    d.add_vertex(len(g)-1)\n",
    "    for i in range(len(g)):\n",
    "        d.add_edge(g[(i)],g[(i+1)%len(g)])\n",
    "    return d"
   ]
  },
  {
   "cell_type": "code",
   "execution_count": 551,
   "metadata": {},
   "outputs": [],
   "source": [
    "### find the inverse of permutation using inv()\n",
    "def inv(perm):\n",
    "    per=list(perm)\n",
    "    inverse = [0] * len(per)\n",
    "    for i, p in enumerate(per):\n",
    "        inverse[p] = i\n",
    "    return inverse"
   ]
  },
  {
   "cell_type": "code",
   "execution_count": 553,
   "metadata": {},
   "outputs": [],
   "source": [
    "def are_equal(AM,AM1) :\n",
    "    return np.array_equal(AM1,AM)"
   ]
  },
  {
   "cell_type": "code",
   "execution_count": 554,
   "metadata": {},
   "outputs": [],
   "source": [
    "def graph_isomorphism(P,V):\n",
    "    message_list=[]\n",
    "    prover_move=True\n",
    "    while len(message_list)<4:\n",
    "        if prover_move :\n",
    "            message_list=P(message_list)\n",
    "        else :\n",
    "            message_list=V(message_list)\n",
    "        prover_move= not prover_move\n",
    "        if message_list[-1]== 'accept' or   message_list[-1]== 'reject':\n",
    "            return message_list\n",
    "    return message_list"
   ]
  },
  {
   "cell_type": "code",
   "execution_count": 555,
   "metadata": {},
   "outputs": [],
   "source": [
    "import math\n",
    "def honest_prover(AM,AM1,pi,mess_list,s):\n",
    "    n=len(AM)\n",
    "    if len(mess_list)==0:\n",
    "        np.random.seed(s)\n",
    "        sigma =np.random.permutation(n)\n",
    "        h=apply_permute(AM,sigma)\n",
    "        mess_list.append(h)\n",
    "    if len(mess_list)==2:\n",
    "        np.random.seed(s)\n",
    "        sigma =np.random.permutation(n)\n",
    "        ch=mess_list[1]\n",
    "        if ch==0:\n",
    "            mess_list.append(sigma)\n",
    "        else:\n",
    "            p=inv(pi)\n",
    "            mess_list.append(composite_permutition(p,list(sigma)))\n",
    "    return mess_list"
   ]
  },
  {
   "cell_type": "code",
   "execution_count": 556,
   "metadata": {},
   "outputs": [],
   "source": [
    "def honest_verifier(AM,AM1,mess_list):\n",
    "    if len(mess_list)==1:\n",
    "        ch=random.choice(range(2))\n",
    "        mess_list.append(ch)\n",
    "    if len(mess_list)==3: \n",
    "        phi=mess_list[2]\n",
    "        ch=mess_list[1]\n",
    "        H=mess_list[0]\n",
    "        mess_list[0]=generate_graph(H)\n",
    "        if ch==0 :\n",
    "            H0=apply_permute(AM,phi)\n",
    "        if ch==1:\n",
    "            H0=apply_permute(AM1,phi)\n",
    "        if are_equal(H,H0):\n",
    "            mess_list.append('accept')\n",
    "        else:\n",
    "            mess_list.append('reject')\n",
    "    return mess_list"
   ]
  },
  {
   "cell_type": "code",
   "execution_count": 718,
   "metadata": {},
   "outputs": [],
   "source": [
    "def test_isomorphism():\n",
    "#     AM=enter_adjMatrix()\n",
    "#     AM1=enter_adjMatrix()\n",
    "#     pi=list(map(int, input('Enter pi:').split())) \n",
    "    s=random.choice(range(1000))\n",
    "    V=lambda msg: honest_verifier(AM,AM1,msg)\n",
    "    P=lambda msg: honest_prover(AM,AM1,pi,msg,s)\n",
    "    return graph_isomorphism(P,V)"
   ]
  },
  {
   "cell_type": "code",
   "execution_count": 756,
   "metadata": {},
   "outputs": [],
   "source": [
    "import csv\n",
    "def get_graph_from_file(i):\n",
    "    with open('matices.csv') as f:\n",
    "        content = f.readlines()\n",
    "    content = [x.strip() for x in content] \n",
    "    l=[]\n",
    "    l=content[i]\n",
    "    matrix=[]\n",
    "    l[i]\n",
    "    n=int(np.sqrt(len(l)-2))\n",
    "    for i in range(1,len(l)-1):\n",
    "        matrix.append(l[i])\n",
    "    s=np.reshape(matrix,(n,n))\n",
    "    return s"
   ]
  },
  {
   "cell_type": "code",
   "execution_count": 755,
   "metadata": {},
   "outputs": [],
   "source": [
    "def get_pi_from_file(i):\n",
    "    with open('matices.csv') as f:\n",
    "        content = f.readlines()\n",
    "    content = [x.strip() for x in content] \n",
    "    l=[]\n",
    "    l=content[i]\n",
    "    matrix=[]\n",
    "    l[i]\n",
    "    n=int(np.sqrt(len(l)-2))\n",
    "    for i in range(1,len(l)-1):\n",
    "        matrix.append(int(l[i]))\n",
    "    return matrix"
   ]
  },
  {
   "cell_type": "code",
   "execution_count": 765,
   "metadata": {},
   "outputs": [],
   "source": [
    "def equal(AM):\n",
    "    a=np.zeros([len(AM),len(AM)])\n",
    "    for i in range(len(AM)):\n",
    "        for j in range(len(AM)):\n",
    "            a[i][j]=AM[i,j]\n",
    "    return a"
   ]
  },
  {
   "cell_type": "code",
   "execution_count": 865,
   "metadata": {},
   "outputs": [],
   "source": [
    "M=get_graph_from_file(0)\n",
    "AM=equal(M)\n",
    "M1=get_graph_from_file(1)\n",
    "AM1=equal(M1)\n",
    "pi=get_pi_from_file(2)"
   ]
  },
  {
   "cell_type": "code",
   "execution_count": 732,
   "metadata": {},
   "outputs": [],
   "source": [
    "def cheating_prover(AM, AM1, mess_list,s):\n",
    "    n=len(AM)\n",
    "    if len(mess_list)==0:\n",
    "        np.random.seed(s)\n",
    "        sigma =np.random.permutation(n)\n",
    "        h=apply_permute(AM,sigma)\n",
    "        mess_list.append(h)\n",
    "    if len(mess_list)==2:\n",
    "        np.random.seed(s)\n",
    "        sigma =np.random.permutation(n)\n",
    "        ch=mess_list[1]\n",
    "        if ch==0:\n",
    "            mess_list.append(sigma)\n",
    "        else:\n",
    "            mess_list.append(np.random.permutation(n))\n",
    "    return mess_list"
   ]
  },
  {
   "cell_type": "code",
   "execution_count": 730,
   "metadata": {},
   "outputs": [],
   "source": [
    "def protocol_dishonest_prover():\n",
    "    V=lambda msg: honest_verifier(AM,AM1,msg)\n",
    "    P=lambda msg: cheating_prover(AM,AM1,msg,s)\n",
    "    return graph_isomorphism(P,V)"
   ]
  },
  {
   "cell_type": "code",
   "execution_count": 868,
   "metadata": {},
   "outputs": [],
   "source": [
    "M1=get_graph_from_file(3)\n",
    "AM1=equal(M1)"
   ]
  },
  {
   "cell_type": "markdown",
   "metadata": {},
   "source": [
    "##  Example between honest prover and honest verifier when ch=0"
   ]
  },
  {
   "cell_type": "code",
   "execution_count": 723,
   "metadata": {},
   "outputs": [
    {
     "name": "stderr",
     "output_type": "stream",
     "text": [
      "/usr/lib/python3/dist-packages/ipykernel_launcher.py:10: FutureWarning: elementwise comparison failed; returning scalar instead, but in the future will perform elementwise comparison\n",
      "  # Remove the CWD from sys.path while we load stuff.\n"
     ]
    },
    {
     "data": {
      "text/plain": [
       "[// Generated by graph-tools (version 1.0) at 2020/53/05/07/20 02:53:36\n",
       " // undirected, 4 vertices, 4 edges\n",
       " graph export_dot {\n",
       "   node [color=gray90,style=filled];\n",
       "   \"0\";\n",
       "   \"1\";\n",
       "   \"2\";\n",
       "   \"3\";\n",
       "   \"0\" -- \"1\";\n",
       "   \"0\" -- \"2\";\n",
       "   \"1\" -- \"3\";\n",
       "   \"2\" -- \"3\";\n",
       " }, 0, array([1, 0, 2, 3]), 'accept']"
      ]
     },
     "execution_count": 723,
     "metadata": {},
     "output_type": "execute_result"
    }
   ],
   "source": [
    "test_isomorphism()"
   ]
  },
  {
   "cell_type": "markdown",
   "metadata": {},
   "source": [
    "##  Example between honest prover and honest verifier when ch=1"
   ]
  },
  {
   "cell_type": "code",
   "execution_count": 724,
   "metadata": {},
   "outputs": [
    {
     "name": "stderr",
     "output_type": "stream",
     "text": [
      "/usr/lib/python3/dist-packages/ipykernel_launcher.py:10: FutureWarning: elementwise comparison failed; returning scalar instead, but in the future will perform elementwise comparison\n",
      "  # Remove the CWD from sys.path while we load stuff.\n"
     ]
    },
    {
     "data": {
      "text/plain": [
       "[// Generated by graph-tools (version 1.0) at 2020/53/05/07/20 02:53:57\n",
       " // undirected, 4 vertices, 4 edges\n",
       " graph export_dot {\n",
       "   node [color=gray90,style=filled];\n",
       "   \"0\";\n",
       "   \"1\";\n",
       "   \"2\";\n",
       "   \"3\";\n",
       "   \"0\" -- \"1\";\n",
       "   \"0\" -- \"2\";\n",
       "   \"1\" -- \"3\";\n",
       "   \"2\" -- \"3\";\n",
       " }, 1, [1, 2, 3, 0], 'accept']"
      ]
     },
     "execution_count": 724,
     "metadata": {},
     "output_type": "execute_result"
    }
   ],
   "source": [
    "test_isomorphism()"
   ]
  },
  {
   "cell_type": "markdown",
   "metadata": {},
   "source": [
    "##  Example between cheating prover and honest verifier when ch=0"
   ]
  },
  {
   "cell_type": "code",
   "execution_count": 733,
   "metadata": {},
   "outputs": [
    {
     "name": "stderr",
     "output_type": "stream",
     "text": [
      "/usr/lib/python3/dist-packages/ipykernel_launcher.py:10: FutureWarning: elementwise comparison failed; returning scalar instead, but in the future will perform elementwise comparison\n",
      "  # Remove the CWD from sys.path while we load stuff.\n"
     ]
    },
    {
     "data": {
      "text/plain": [
       "[// Generated by graph-tools (version 1.0) at 2020/21/05/07/20 03:21:07\n",
       " // undirected, 4 vertices, 4 edges\n",
       " graph export_dot {\n",
       "   node [color=gray90,style=filled];\n",
       "   \"0\";\n",
       "   \"1\";\n",
       "   \"2\";\n",
       "   \"3\";\n",
       "   \"0\" -- \"1\";\n",
       "   \"0\" -- \"2\";\n",
       "   \"1\" -- \"3\";\n",
       "   \"2\" -- \"3\";\n",
       " }, 0, array([2, 3, 1, 0]), 'accept']"
      ]
     },
     "execution_count": 733,
     "metadata": {},
     "output_type": "execute_result"
    }
   ],
   "source": [
    "protocol_dishonest_prover()"
   ]
  },
  {
   "cell_type": "markdown",
   "metadata": {},
   "source": [
    "##  Example between cheating prover and honest verifier when ch=1"
   ]
  },
  {
   "cell_type": "code",
   "execution_count": 736,
   "metadata": {},
   "outputs": [
    {
     "name": "stderr",
     "output_type": "stream",
     "text": [
      "/usr/lib/python3/dist-packages/ipykernel_launcher.py:10: FutureWarning: elementwise comparison failed; returning scalar instead, but in the future will perform elementwise comparison\n",
      "  # Remove the CWD from sys.path while we load stuff.\n"
     ]
    },
    {
     "data": {
      "text/plain": [
       "[// Generated by graph-tools (version 1.0) at 2020/21/05/07/20 03:21:29\n",
       " // undirected, 4 vertices, 4 edges\n",
       " graph export_dot {\n",
       "   node [color=gray90,style=filled];\n",
       "   \"0\";\n",
       "   \"1\";\n",
       "   \"2\";\n",
       "   \"3\";\n",
       "   \"0\" -- \"1\";\n",
       "   \"0\" -- \"2\";\n",
       "   \"1\" -- \"3\";\n",
       "   \"2\" -- \"3\";\n",
       " }, 1, array([0, 1, 3, 2]), 'reject']"
      ]
     },
     "execution_count": 736,
     "metadata": {},
     "output_type": "execute_result"
    }
   ],
   "source": [
    "protocol_dishonest_prover()"
   ]
  },
  {
   "cell_type": "code",
   "execution_count": 845,
   "metadata": {},
   "outputs": [],
   "source": [
    "M=get_graph_from_file(4)\n",
    "AM=equal(M)\n",
    "M1=get_graph_from_file(5)\n",
    "AM1=equal(M1)\n",
    "pi=get_pi_from_file(6)"
   ]
  },
  {
   "cell_type": "code",
   "execution_count": 864,
   "metadata": {},
   "outputs": [
    {
     "data": {
      "text/plain": [
       "array([[1., 0., 1., 0., 0., 1., 0., 0., 0., 1.],\n",
       "       [0., 0., 1., 0., 0., 0., 0., 0., 0., 0.],\n",
       "       [1., 1., 0., 0., 1., 1., 1., 1., 1., 1.],\n",
       "       [0., 0., 0., 0., 0., 0., 0., 0., 0., 0.],\n",
       "       [0., 0., 1., 0., 0., 0., 0., 0., 0., 0.],\n",
       "       [1., 0., 1., 0., 0., 0., 0., 0., 0., 0.],\n",
       "       [0., 0., 1., 0., 0., 0., 0., 0., 0., 0.],\n",
       "       [0., 0., 1., 0., 0., 0., 0., 0., 0., 0.],\n",
       "       [0., 0., 1., 0., 0., 0., 0., 0., 0., 0.],\n",
       "       [1., 0., 1., 0., 0., 0., 0., 0., 0., 0.]])"
      ]
     },
     "execution_count": 864,
     "metadata": {},
     "output_type": "execute_result"
    }
   ],
   "source": [
    "AM=[[0, 1, 1, 1, 1, 1, 1, 1, 0, 1], \n",
    "[1, 0, 1, 1, 1, 1, 0, 1, 1, 0], \n",
    "[1, 1, 0, 1, 1, 1, 0, 0, 1, 0], \n",
    "[1, 1, 1, 0, 1, 1, 0, 0, 0, 0], \n",
    "[1, 1, 1, 1, 0, 1, 0, 0, 0, 1], \n",
    "[1, 1, 1, 1, 1, 0, 1, 0, 1, 1], \n",
    "[1, 0, 0, 0, 0, 1, 0, 1, 0, 1], \n",
    "[1, 1, 0, 0, 0, 0, 1, 0, 1, 0], \n",
    "[0, 1, 1, 0, 0, 1, 0, 1, 0, 0], \n",
    "[1, 0, 0, 0, 1, 1, 1, 0, 0, 0]] \n",
    "pi=[8, 1, 5, 0, 7, 2, 9, 4, 3, 6]\n",
    "AM1=apply_permute(AM,pi)\n",
    "apply_permute(AM,[2, 0, 9, 5, 8, 7, 1, 4, 3, 6])"
   ]
  },
  {
   "cell_type": "code",
   "execution_count": 862,
   "metadata": {},
   "outputs": [
    {
     "data": {
      "text/plain": [
       "array([[1., 1., 0., 0., 0., 0., 0., 0., 1., 0.],\n",
       "       [1., 0., 0., 0., 0., 1., 0., 0., 1., 0.],\n",
       "       [0., 0., 0., 0., 0., 0., 0., 0., 1., 0.],\n",
       "       [0., 0., 0., 0., 0., 0., 0., 0., 0., 0.],\n",
       "       [0., 0., 0., 0., 0., 0., 0., 0., 1., 0.],\n",
       "       [0., 1., 0., 0., 0., 0., 0., 0., 1., 0.],\n",
       "       [0., 0., 0., 0., 0., 0., 0., 0., 1., 0.],\n",
       "       [0., 0., 0., 0., 0., 0., 0., 0., 1., 0.],\n",
       "       [1., 1., 1., 0., 1., 1., 1., 1., 0., 1.],\n",
       "       [0., 0., 0., 0., 0., 0., 0., 0., 1., 0.]])"
      ]
     },
     "execution_count": 862,
     "metadata": {},
     "output_type": "execute_result"
    }
   ],
   "source": [
    "AM1"
   ]
  },
  {
   "cell_type": "code",
   "execution_count": 843,
   "metadata": {},
   "outputs": [
    {
     "data": {
      "text/plain": [
       "102"
      ]
     },
     "execution_count": 843,
     "metadata": {},
     "output_type": "execute_result"
    }
   ],
   "source": [
    "with open('matices.csv') as f:\n",
    "        content = f.readlines()\n",
    "content = [x.strip() for x in content] \n",
    "l=[]\n",
    "l=content[4]\n",
    "len(l)"
   ]
  },
  {
   "cell_type": "code",
   "execution_count": 854,
   "metadata": {},
   "outputs": [
    {
     "name": "stderr",
     "output_type": "stream",
     "text": [
      "/usr/lib/python3/dist-packages/ipykernel_launcher.py:10: FutureWarning: elementwise comparison failed; returning scalar instead, but in the future will perform elementwise comparison\n",
      "  # Remove the CWD from sys.path while we load stuff.\n"
     ]
    },
    {
     "data": {
      "text/plain": [
       "[// Generated by graph-tools (version 1.0) at 2020/34/05/07/20 05:34:39\n",
       " // undirected, 9 vertices, 11 edges\n",
       " graph export_dot {\n",
       "   node [color=gray90,style=filled];\n",
       "   \"0\";\n",
       "   \"1\";\n",
       "   \"2\";\n",
       "   \"4\";\n",
       "   \"5\";\n",
       "   \"6\";\n",
       "   \"7\";\n",
       "   \"8\";\n",
       "   \"9\";\n",
       "   \"0\" -- \"0\";\n",
       "   \"0\" -- \"2\";\n",
       "   \"0\" -- \"5\";\n",
       "   \"0\" -- \"9\";\n",
       "   \"1\" -- \"2\";\n",
       "   \"2\" -- \"4\";\n",
       "   \"2\" -- \"5\";\n",
       "   \"2\" -- \"6\";\n",
       "   \"2\" -- \"7\";\n",
       "   \"2\" -- \"8\";\n",
       "   \"2\" -- \"9\";\n",
       " }, 0, array([2, 0, 9, 5, 8, 7, 1, 4, 3, 6]), 'accept']"
      ]
     },
     "execution_count": 854,
     "metadata": {},
     "output_type": "execute_result"
    }
   ],
   "source": [
    "test_isomorphism()\n"
   ]
  },
  {
   "cell_type": "code",
   "execution_count": 863,
   "metadata": {},
   "outputs": [
    {
     "name": "stderr",
     "output_type": "stream",
     "text": [
      "/usr/lib/python3/dist-packages/ipykernel_launcher.py:10: FutureWarning: elementwise comparison failed; returning scalar instead, but in the future will perform elementwise comparison\n",
      "  # Remove the CWD from sys.path while we load stuff.\n"
     ]
    },
    {
     "data": {
      "text/plain": [
       "[// Generated by graph-tools (version 1.0) at 2020/40/05/07/20 05:40:19\n",
       " // undirected, 9 vertices, 11 edges\n",
       " graph export_dot {\n",
       "   node [color=gray90,style=filled];\n",
       "   \"0\";\n",
       "   \"1\";\n",
       "   \"3\";\n",
       "   \"4\";\n",
       "   \"5\";\n",
       "   \"6\";\n",
       "   \"7\";\n",
       "   \"8\";\n",
       "   \"9\";\n",
       "   \"0\" -- \"0\";\n",
       "   \"0\" -- \"6\";\n",
       "   \"1\" -- \"4\";\n",
       "   \"1\" -- \"6\";\n",
       "   \"3\" -- \"6\";\n",
       "   \"4\" -- \"6\";\n",
       "   \"4\" -- \"9\";\n",
       "   \"5\" -- \"6\";\n",
       "   \"6\" -- \"7\";\n",
       "   \"6\" -- \"8\";\n",
       "   \"6\" -- \"9\";\n",
       " }, 1, [1, 4, 0, 2, 3, 9, 7, 5, 6, 8], 'reject']"
      ]
     },
     "execution_count": 863,
     "metadata": {},
     "output_type": "execute_result"
    }
   ],
   "source": [
    "test_isomorphism()"
   ]
  },
  {
   "cell_type": "code",
   "execution_count": 828,
   "metadata": {},
   "outputs": [
    {
     "name": "stdout",
     "output_type": "stream",
     "text": [
      "22\n"
     ]
    },
    {
     "data": {
      "text/plain": [
       "array([[0., 1., 0., 0., 0., 1., 1., 1., 0., 0.],\n",
       "       [1., 0., 0., 0., 1., 1., 0., 0., 1., 1.],\n",
       "       [0., 0., 0., 0., 0., 1., 1., 1., 0., 1.],\n",
       "       [0., 0., 0., 0., 1., 1., 1., 0., 0., 0.],\n",
       "       [0., 1., 0., 1., 0., 1., 0., 0., 1., 1.],\n",
       "       [1., 1., 1., 1., 1., 0., 0., 0., 1., 0.],\n",
       "       [1., 0., 1., 1., 0., 0., 0., 0., 1., 1.],\n",
       "       [1., 0., 1., 0., 0., 0., 0., 0., 0., 0.],\n",
       "       [0., 1., 0., 0., 1., 1., 1., 0., 0., 1.],\n",
       "       [0., 1., 1., 0., 1., 0., 1., 0., 1., 0.]])"
      ]
     },
     "execution_count": 828,
     "metadata": {},
     "output_type": "execute_result"
    }
   ],
   "source": [
    "# AM=np.array([[0,1,0,1],[1,0,1,0],[0,1,0,1],[1,0,1,0]])\n",
    "# pi=[0,3,1,2]\n",
    "apply_permutei(AM,pi)"
   ]
  },
  {
   "cell_type": "code",
   "execution_count": 866,
   "metadata": {},
   "outputs": [],
   "source": [
    "def simulator(AM,AM1,s):\n",
    "    mess_list=[]\n",
    "    sigma =np.random.seed(s)\n",
    "    sigma =np.random.permutation(n)\n",
    "    h=apply_permut(AM,sigma)\n",
    "    mess_list.append(h)\n",
    "    b=random.choice(range(2))\n",
    "    ch=random.choice(range(2))\n",
    "    if ch == b:\n",
    "        print('accept')\n",
    "        return sigma\n",
    "    else :\n",
    "        simulator(AM,AM1,s)"
   ]
  },
  {
   "cell_type": "code",
   "execution_count": 869,
   "metadata": {},
   "outputs": [
    {
     "name": "stdout",
     "output_type": "stream",
     "text": [
      "accept\n"
     ]
    },
    {
     "data": {
      "text/plain": [
       "array([2, 3, 1, 0])"
      ]
     },
     "execution_count": 869,
     "metadata": {},
     "output_type": "execute_result"
    }
   ],
   "source": [
    "simulator(AM,AM1,2)"
   ]
  },
  {
   "cell_type": "code",
   "execution_count": null,
   "metadata": {},
   "outputs": [],
   "source": []
  }
 ],
 "metadata": {
  "kernelspec": {
   "display_name": "Python 3",
   "language": "python",
   "name": "python3"
  },
  "language_info": {
   "codemirror_mode": {
    "name": "ipython",
    "version": 3
   },
   "file_extension": ".py",
   "mimetype": "text/x-python",
   "name": "python",
   "nbconvert_exporter": "python",
   "pygments_lexer": "ipython3",
   "version": "3.7.3"
  }
 },
 "nbformat": 4,
 "nbformat_minor": 2
}
