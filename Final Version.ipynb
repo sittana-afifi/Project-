{
 "cells": [
  {
   "cell_type": "code",
   "execution_count": 1,
   "metadata": {},
   "outputs": [],
   "source": [
    "### use generate_graph() to transform adjeceny matrix to graph\n",
    "import numpy as np\n",
    "from graph_tools import *\n",
    "def generate_graph(AM):\n",
    "    d = Graph(directed=False)\n",
    "    d.add_vertex(len(AM)-1)\n",
    "    for i in range(len(AM)):\n",
    "        for j in range(i,len(AM)):\n",
    "            if AM[i][j]==1:\n",
    "                d.add_edge(i,j)\n",
    "    return d"
   ]
  },
  {
   "cell_type": "code",
   "execution_count": 2,
   "metadata": {},
   "outputs": [],
   "source": [
    "from sympy.combinatorics import Permutation\n",
    "def composite_permutition(p,g):\n",
    "    p1=Permutation(p)\n",
    "    q1=Permutation(g)\n",
    "    return [(p1*q1)(i) for i in range(p1.size)]\n"
   ]
  },
  {
   "cell_type": "code",
   "execution_count": 3,
   "metadata": {},
   "outputs": [],
   "source": [
    "def apply_permute(AM,pi):\n",
    "    n=len(AM)\n",
    "    AM1=np.zeros((n,n))\n",
    "    for i in range (n):\n",
    "        for j in range (n):\n",
    "            if AM[i][j]==1 :\n",
    "                AM1[pi[i]][pi[j]]=1\n",
    "    return AM1\n"
   ]
  },
  {
   "cell_type": "code",
   "execution_count": 4,
   "metadata": {},
   "outputs": [],
   "source": [
    "### find the inverse of permutation using inv()\n",
    "def inv(perm):\n",
    "    per=list(perm)\n",
    "    inverse = [0] * len(per)\n",
    "    for i, p in enumerate(per):\n",
    "        inverse[p] = i\n",
    "    return inverse"
   ]
  },
  {
   "cell_type": "code",
   "execution_count": 5,
   "metadata": {},
   "outputs": [],
   "source": [
    "def are_equal(AM,AM1) :\n",
    "    return np.array_equal(AM1,AM)"
   ]
  },
  {
   "cell_type": "code",
   "execution_count": 6,
   "metadata": {},
   "outputs": [],
   "source": [
    "def graph_isomorphism(P,V):\n",
    "    message_list=[]\n",
    "    prover_move=True\n",
    "    while len(message_list)<4:\n",
    "        if prover_move :\n",
    "            message_list=P(message_list)\n",
    "        else :\n",
    "            message_list=V(message_list)\n",
    "        prover_move= not prover_move\n",
    "        if message_list[-1]== 'accept' or   message_list[-1]== 'reject':\n",
    "            return message_list\n",
    "    return message_list"
   ]
  },
  {
   "cell_type": "code",
   "execution_count": 7,
   "metadata": {},
   "outputs": [],
   "source": [
    "import math\n",
    "def honest_prover(AM,AM1,pi,mess_list,s):\n",
    "    n=len(AM)\n",
    "    if len(mess_list)==0:\n",
    "        np.random.seed(s)\n",
    "        sigma =np.random.permutation(n)\n",
    "        h=apply_permute(AM,sigma)\n",
    "        mess_list.append(h)\n",
    "    if len(mess_list)==2:\n",
    "        np.random.seed(s)\n",
    "        sigma =np.random.permutation(n)\n",
    "        ch=mess_list[1]\n",
    "        if ch==0:\n",
    "            mess_list.append(sigma)\n",
    "        else:\n",
    "            p=inv(pi)\n",
    "            mess_list.append(composite_permutition(p,list(sigma)))\n",
    "    return mess_list"
   ]
  },
  {
   "cell_type": "code",
   "execution_count": 8,
   "metadata": {},
   "outputs": [],
   "source": [
    "def honest_verifier(AM,AM1,mess_list):\n",
    "    if len(mess_list)==1:\n",
    "        ch=random.choice(range(2))\n",
    "        mess_list.append(ch)\n",
    "    if len(mess_list)==3: \n",
    "        phi=mess_list[2]\n",
    "        ch=mess_list[1]\n",
    "        H=mess_list[0]\n",
    "        mess_list[0]=generate_graph(H)\n",
    "        if ch==0 :\n",
    "            H0=apply_permute(AM,phi)\n",
    "        if ch==1:\n",
    "            H0=apply_permute(AM1,phi)\n",
    "        if are_equal(H,H0):\n",
    "            mess_list.append('accept')\n",
    "        else:\n",
    "            mess_list.append('reject')\n",
    "    return mess_list"
   ]
  },
  {
   "cell_type": "code",
   "execution_count": 16,
   "metadata": {},
   "outputs": [],
   "source": [
    "def cheating_prover(AM, AM1, mess_list,s):\n",
    "    n=len(AM)\n",
    "    if len(mess_list)==0:\n",
    "        np.random.seed(s)\n",
    "        sigma =np.random.permutation(n)\n",
    "        h=apply_permute(AM,sigma)\n",
    "        mess_list.append(h)\n",
    "    if len(mess_list)==2:\n",
    "        np.random.seed(s)\n",
    "        sigma =np.random.permutation(n)\n",
    "        ch=mess_list[1]\n",
    "        if ch==0:\n",
    "            mess_list.append(sigma)\n",
    "        else:\n",
    "            mess_list.append(np.random.permutation(n))\n",
    "    return mess_list"
   ]
  },
  {
   "cell_type": "code",
   "execution_count": 9,
   "metadata": {},
   "outputs": [],
   "source": [
    "def test_isomorphism(): \n",
    "    s=random.choice(range(1000))\n",
    "    V=lambda msg: honest_verifier(AM,AM1,msg)\n",
    "    P=lambda msg: honest_prover(AM,AM1,pi,msg,s)\n",
    "    return graph_isomorphism(P,V)"
   ]
  },
  {
   "cell_type": "code",
   "execution_count": 60,
   "metadata": {},
   "outputs": [],
   "source": [
    "def simulator(AM,AM1):\n",
    "    mess_list=[]\n",
    "    s=random.choice(range(1000))\n",
    "    np.random.seed(s)\n",
    "    sigma =np.random.permutation(len(AM))\n",
    "    h=apply_permute(AM,sigma)\n",
    "    mess_list.append(h)\n",
    "    b=random.choice(range(2))\n",
    "    ch=random.choice(range(2))\n",
    "    if ch == b:\n",
    "        print('accept')\n",
    "        return sigma\n",
    "    else :\n",
    "        return simulator(AM,AM1)"
   ]
  },
  {
   "cell_type": "code",
   "execution_count": 33,
   "metadata": {},
   "outputs": [],
   "source": [
    "def protocol_dishonest_prover():\n",
    "    s=random.choice(range(1000))\n",
    "    V=lambda msg: honest_verifier(AM,AM1,msg)\n",
    "    P=lambda msg: cheating_prover(AM,AM1,msg,s)\n",
    "    return graph_isomorphism(P,V)"
   ]
  },
  {
   "cell_type": "code",
   "execution_count": 10,
   "metadata": {},
   "outputs": [],
   "source": [
    "import csv\n",
    "def get_graph_from_file(i):\n",
    "    with open('matices.csv') as f:\n",
    "        content = f.readlines()\n",
    "    content = [x.strip() for x in content] \n",
    "    l=[]\n",
    "    l=content[i]\n",
    "    matrix=[]\n",
    "    l[i]\n",
    "    n=int(np.sqrt(len(l)-2))\n",
    "    for i in range(1,len(l)-1):\n",
    "        matrix.append(l[i])\n",
    "    s=np.reshape(matrix,(n,n))\n",
    "    return s"
   ]
  },
  {
   "cell_type": "code",
   "execution_count": 11,
   "metadata": {},
   "outputs": [],
   "source": [
    "def get_pi_from_file(i):\n",
    "    with open('matices.csv') as f:\n",
    "        content = f.readlines()\n",
    "    content = [x.strip() for x in content] \n",
    "    l=[]\n",
    "    l=content[i]\n",
    "    matrix=[]\n",
    "    l[i]\n",
    "    n=int(np.sqrt(len(l)-2))\n",
    "    for i in range(1,len(l)-1):\n",
    "        matrix.append(int(l[i]))\n",
    "    return matrix"
   ]
  },
  {
   "cell_type": "code",
   "execution_count": 14,
   "metadata": {},
   "outputs": [],
   "source": [
    "def equal(AM):\n",
    "    a=np.zeros([len(AM),len(AM)])\n",
    "    for i in range(len(AM)):\n",
    "        for j in range(len(AM)):\n",
    "            a[i][j]=AM[i,j]\n",
    "    return a"
   ]
  },
  {
   "cell_type": "code",
   "execution_count": 15,
   "metadata": {},
   "outputs": [],
   "source": [
    "M=get_graph_from_file(0)\n",
    "AM=equal(M)\n",
    "M1=get_graph_from_file(1)\n",
    "AM1=equal(M1)\n",
    "pi=get_pi_from_file(2)"
   ]
  },
  {
   "cell_type": "markdown",
   "metadata": {},
   "source": [
    "##  Example between honest prover and honest verifier when ch=0"
   ]
  },
  {
   "cell_type": "code",
   "execution_count": 22,
   "metadata": {},
   "outputs": [
    {
     "name": "stderr",
     "output_type": "stream",
     "text": [
      "/usr/lib/python3/dist-packages/ipykernel_launcher.py:10: FutureWarning: elementwise comparison failed; returning scalar instead, but in the future will perform elementwise comparison\n",
      "  # Remove the CWD from sys.path while we load stuff.\n"
     ]
    },
    {
     "data": {
      "text/plain": [
       "[// Generated by graph-tools (version 1.0) at 2020/12/05/07/20 17:12:54\n",
       " // undirected, 4 vertices, 4 edges\n",
       " graph export_dot {\n",
       "   node [color=gray90,style=filled];\n",
       "   \"0\";\n",
       "   \"1\";\n",
       "   \"2\";\n",
       "   \"3\";\n",
       "   \"0\" -- \"1\";\n",
       "   \"0\" -- \"3\";\n",
       "   \"1\" -- \"2\";\n",
       "   \"2\" -- \"3\";\n",
       " }, 0, array([1, 0, 3, 2]), 'accept']"
      ]
     },
     "execution_count": 22,
     "metadata": {},
     "output_type": "execute_result"
    }
   ],
   "source": [
    "test_isomorphism()"
   ]
  },
  {
   "cell_type": "markdown",
   "metadata": {},
   "source": [
    "##  Example between honest prover and honest verifier when ch=1"
   ]
  },
  {
   "cell_type": "code",
   "execution_count": 27,
   "metadata": {},
   "outputs": [
    {
     "name": "stderr",
     "output_type": "stream",
     "text": [
      "/usr/lib/python3/dist-packages/ipykernel_launcher.py:10: FutureWarning: elementwise comparison failed; returning scalar instead, but in the future will perform elementwise comparison\n",
      "  # Remove the CWD from sys.path while we load stuff.\n"
     ]
    },
    {
     "data": {
      "text/plain": [
       "[// Generated by graph-tools (version 1.0) at 2020/13/05/07/20 17:13:32\n",
       " // undirected, 4 vertices, 4 edges\n",
       " graph export_dot {\n",
       "   node [color=gray90,style=filled];\n",
       "   \"0\";\n",
       "   \"1\";\n",
       "   \"2\";\n",
       "   \"3\";\n",
       "   \"0\" -- \"1\";\n",
       "   \"0\" -- \"3\";\n",
       "   \"1\" -- \"2\";\n",
       "   \"2\" -- \"3\";\n",
       " }, 1, [2, 0, 1, 3], 'accept']"
      ]
     },
     "execution_count": 27,
     "metadata": {},
     "output_type": "execute_result"
    }
   ],
   "source": [
    "test_isomorphism()"
   ]
  },
  {
   "cell_type": "code",
   "execution_count": 29,
   "metadata": {},
   "outputs": [],
   "source": [
    "M1=get_graph_from_file(3)\n",
    "AM1=equal(M1)"
   ]
  },
  {
   "cell_type": "markdown",
   "metadata": {},
   "source": [
    "##  Example between cheating prover and honest verifier when ch=0"
   ]
  },
  {
   "cell_type": "code",
   "execution_count": 35,
   "metadata": {},
   "outputs": [
    {
     "name": "stderr",
     "output_type": "stream",
     "text": [
      "/usr/lib/python3/dist-packages/ipykernel_launcher.py:10: FutureWarning: elementwise comparison failed; returning scalar instead, but in the future will perform elementwise comparison\n",
      "  # Remove the CWD from sys.path while we load stuff.\n"
     ]
    },
    {
     "data": {
      "text/plain": [
       "[// Generated by graph-tools (version 1.0) at 2020/16/05/07/20 17:16:42\n",
       " // undirected, 4 vertices, 4 edges\n",
       " graph export_dot {\n",
       "   node [color=gray90,style=filled];\n",
       "   \"0\";\n",
       "   \"1\";\n",
       "   \"2\";\n",
       "   \"3\";\n",
       "   \"0\" -- \"2\";\n",
       "   \"0\" -- \"3\";\n",
       "   \"1\" -- \"2\";\n",
       "   \"1\" -- \"3\";\n",
       " }, 0, array([3, 0, 2, 1]), 'accept']"
      ]
     },
     "execution_count": 35,
     "metadata": {},
     "output_type": "execute_result"
    }
   ],
   "source": [
    "protocol_dishonest_prover()"
   ]
  },
  {
   "cell_type": "markdown",
   "metadata": {},
   "source": [
    "##  Example between cheating prover and honest verifier when ch=1"
   ]
  },
  {
   "cell_type": "code",
   "execution_count": 37,
   "metadata": {},
   "outputs": [
    {
     "name": "stderr",
     "output_type": "stream",
     "text": [
      "/usr/lib/python3/dist-packages/ipykernel_launcher.py:10: FutureWarning: elementwise comparison failed; returning scalar instead, but in the future will perform elementwise comparison\n",
      "  # Remove the CWD from sys.path while we load stuff.\n"
     ]
    },
    {
     "data": {
      "text/plain": [
       "[// Generated by graph-tools (version 1.0) at 2020/17/05/07/20 17:17:00\n",
       " // undirected, 4 vertices, 4 edges\n",
       " graph export_dot {\n",
       "   node [color=gray90,style=filled];\n",
       "   \"0\";\n",
       "   \"1\";\n",
       "   \"2\";\n",
       "   \"3\";\n",
       "   \"0\" -- \"1\";\n",
       "   \"0\" -- \"3\";\n",
       "   \"1\" -- \"2\";\n",
       "   \"2\" -- \"3\";\n",
       " }, 1, array([2, 0, 3, 1]), 'reject']"
      ]
     },
     "execution_count": 37,
     "metadata": {},
     "output_type": "execute_result"
    }
   ],
   "source": [
    "protocol_dishonest_prover()"
   ]
  },
  {
   "cell_type": "code",
   "execution_count": 39,
   "metadata": {},
   "outputs": [],
   "source": [
    "M=get_graph_from_file(4)\n",
    "AM=equal(M)\n",
    "M1=get_graph_from_file(5)\n",
    "AM1=equal(M1)\n",
    "pi=get_pi_from_file(6)"
   ]
  },
  {
   "cell_type": "markdown",
   "metadata": {},
   "source": [
    "##  Example between honest prover and honest verifier for big grapg(v=10,e=28)when ch=0"
   ]
  },
  {
   "cell_type": "code",
   "execution_count": 40,
   "metadata": {},
   "outputs": [
    {
     "name": "stderr",
     "output_type": "stream",
     "text": [
      "/usr/lib/python3/dist-packages/ipykernel_launcher.py:10: FutureWarning: elementwise comparison failed; returning scalar instead, but in the future will perform elementwise comparison\n",
      "  # Remove the CWD from sys.path while we load stuff.\n"
     ]
    },
    {
     "data": {
      "text/plain": [
       "[// Generated by graph-tools (version 1.0) at 2020/19/05/07/20 17:19:54\n",
       " // undirected, 10 vertices, 28 edges\n",
       " graph export_dot {\n",
       "   node [color=gray90,style=filled];\n",
       "   \"0\";\n",
       "   \"1\";\n",
       "   \"2\";\n",
       "   \"3\";\n",
       "   \"4\";\n",
       "   \"5\";\n",
       "   \"6\";\n",
       "   \"7\";\n",
       "   \"8\";\n",
       "   \"9\";\n",
       "   \"0\" -- \"1\";\n",
       "   \"0\" -- \"2\";\n",
       "   \"0\" -- \"5\";\n",
       "   \"0\" -- \"8\";\n",
       "   \"1\" -- \"2\";\n",
       "   \"1\" -- \"4\";\n",
       "   \"1\" -- \"5\";\n",
       "   \"1\" -- \"7\";\n",
       "   \"1\" -- \"8\";\n",
       "   \"1\" -- \"9\";\n",
       "   \"2\" -- \"6\";\n",
       "   \"2\" -- \"7\";\n",
       "   \"3\" -- \"4\";\n",
       "   \"3\" -- \"5\";\n",
       "   \"3\" -- \"6\";\n",
       "   \"3\" -- \"7\";\n",
       "   \"4\" -- \"5\";\n",
       "   \"4\" -- \"7\";\n",
       "   \"4\" -- \"8\";\n",
       "   \"4\" -- \"9\";\n",
       "   \"5\" -- \"6\";\n",
       "   \"5\" -- \"7\";\n",
       "   \"5\" -- \"8\";\n",
       "   \"5\" -- \"9\";\n",
       "   \"6\" -- \"7\";\n",
       "   \"7\" -- \"8\";\n",
       "   \"7\" -- \"9\";\n",
       "   \"8\" -- \"9\";\n",
       " }, 0, array([7, 1, 8, 9, 4, 5, 6, 2, 0, 3]), 'accept']"
      ]
     },
     "execution_count": 40,
     "metadata": {},
     "output_type": "execute_result"
    }
   ],
   "source": [
    "test_isomorphism()"
   ]
  },
  {
   "cell_type": "markdown",
   "metadata": {},
   "source": [
    "##  Example between honest prover and honest verifier for big grapg(v=10,e=28)when ch=1"
   ]
  },
  {
   "cell_type": "code",
   "execution_count": 41,
   "metadata": {},
   "outputs": [
    {
     "name": "stderr",
     "output_type": "stream",
     "text": [
      "/usr/lib/python3/dist-packages/ipykernel_launcher.py:10: FutureWarning: elementwise comparison failed; returning scalar instead, but in the future will perform elementwise comparison\n",
      "  # Remove the CWD from sys.path while we load stuff.\n"
     ]
    },
    {
     "data": {
      "text/plain": [
       "[// Generated by graph-tools (version 1.0) at 2020/20/05/07/20 17:20:41\n",
       " // undirected, 10 vertices, 28 edges\n",
       " graph export_dot {\n",
       "   node [color=gray90,style=filled];\n",
       "   \"0\";\n",
       "   \"1\";\n",
       "   \"2\";\n",
       "   \"3\";\n",
       "   \"4\";\n",
       "   \"5\";\n",
       "   \"6\";\n",
       "   \"7\";\n",
       "   \"8\";\n",
       "   \"9\";\n",
       "   \"0\" -- \"2\";\n",
       "   \"0\" -- \"3\";\n",
       "   \"0\" -- \"4\";\n",
       "   \"0\" -- \"5\";\n",
       "   \"0\" -- \"6\";\n",
       "   \"0\" -- \"7\";\n",
       "   \"0\" -- \"8\";\n",
       "   \"0\" -- \"9\";\n",
       "   \"1\" -- \"3\";\n",
       "   \"1\" -- \"5\";\n",
       "   \"1\" -- \"6\";\n",
       "   \"1\" -- \"8\";\n",
       "   \"2\" -- \"3\";\n",
       "   \"2\" -- \"6\";\n",
       "   \"2\" -- \"9\";\n",
       "   \"3\" -- \"4\";\n",
       "   \"3\" -- \"5\";\n",
       "   \"3\" -- \"7\";\n",
       "   \"3\" -- \"8\";\n",
       "   \"3\" -- \"9\";\n",
       "   \"4\" -- \"5\";\n",
       "   \"4\" -- \"7\";\n",
       "   \"4\" -- \"8\";\n",
       "   \"5\" -- \"7\";\n",
       "   \"5\" -- \"8\";\n",
       "   \"6\" -- \"8\";\n",
       "   \"7\" -- \"8\";\n",
       "   \"7\" -- \"9\";\n",
       " }, 1, [4, 8, 3, 1, 6, 5, 9, 7, 0, 2], 'accept']"
      ]
     },
     "execution_count": 41,
     "metadata": {},
     "output_type": "execute_result"
    }
   ],
   "source": [
    "test_isomorphism()"
   ]
  },
  {
   "cell_type": "markdown",
   "metadata": {},
   "source": [
    "##  Example between honest prover and honest verifier using simulator"
   ]
  },
  {
   "cell_type": "code",
   "execution_count": 61,
   "metadata": {},
   "outputs": [
    {
     "name": "stdout",
     "output_type": "stream",
     "text": [
      "accept\n"
     ]
    },
    {
     "data": {
      "text/plain": [
       "array([4, 2, 5, 7, 8, 3, 9, 1, 6, 0])"
      ]
     },
     "execution_count": 61,
     "metadata": {},
     "output_type": "execute_result"
    }
   ],
   "source": [
    "simulator(AM,AM1)"
   ]
  }
 ],
 "metadata": {
  "kernelspec": {
   "display_name": "Python 3",
   "language": "python",
   "name": "python3"
  },
  "language_info": {
   "codemirror_mode": {
    "name": "ipython",
    "version": 3
   },
   "file_extension": ".py",
   "mimetype": "text/x-python",
   "name": "python",
   "nbconvert_exporter": "python",
   "pygments_lexer": "ipython3",
   "version": "3.7.3"
  }
 },
 "nbformat": 4,
 "nbformat_minor": 2
}
